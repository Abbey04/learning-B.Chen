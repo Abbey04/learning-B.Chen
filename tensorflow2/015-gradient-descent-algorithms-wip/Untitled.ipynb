{
 "cells": [
  {
   "cell_type": "markdown",
   "metadata": {},
   "source": [
    "### What is gradient descent?\n",
    "An algorithm takes small step in opposite direction of gradient (repeat step by step) to converge to a local minimum \n",
    "\n",
    "\n",
    "### MIT - course 1 - intro to DL\n",
    "\n",
    "* SGD\n",
    "* Adam\n",
    "* Adadelta\n",
    "* Adagrad\n",
    "* RMSProp\n",
    "\n",
    "### Hands-on Page 372\n",
    "* Momentum Optimization\n",
    "* Nesterov Accelerated Gradient\n",
    "* "
   ]
  },
  {
   "cell_type": "code",
   "execution_count": null,
   "metadata": {},
   "outputs": [],
   "source": []
  }
 ],
 "metadata": {
  "interpreter": {
   "hash": "8e5b3dc472797fe8bb513ecdb33a0a623de0b0e36e9698a9218d88c7353364d6"
  },
  "kernelspec": {
   "display_name": "tf-tutorial",
   "language": "python",
   "name": "python3"
  },
  "language_info": {
   "codemirror_mode": {
    "name": "ipython",
    "version": 3
   },
   "file_extension": ".py",
   "mimetype": "text/x-python",
   "name": "python",
   "nbconvert_exporter": "python",
   "pygments_lexer": "ipython3",
   "version": "3.7.6"
  }
 },
 "nbformat": 4,
 "nbformat_minor": 4
}
