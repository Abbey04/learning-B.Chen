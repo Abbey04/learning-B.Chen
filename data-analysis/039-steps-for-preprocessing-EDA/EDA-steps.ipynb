{
 "cells": [
  {
   "cell_type": "markdown",
   "metadata": {},
   "source": [
    "* https://www.youtube.com/watch?v=E-q24gS8cqg\n",
    "* https://medium.com/@jayshwor.khadka/first-thing-to-do-before-exploratory-data-analysis-3dc5e9dee1bc\n",
    "* https://towardsdatascience.com/feature-engineering-for-machine-learning-3a5e293a5114"
   ]
  },
  {
   "cell_type": "markdown",
   "metadata": {},
   "source": [
    "## Import Libraries"
   ]
  },
  {
   "cell_type": "markdown",
   "metadata": {},
   "source": [
    "## Read the Data"
   ]
  },
  {
   "cell_type": "markdown",
   "metadata": {},
   "source": [
    "1. Identify and evaluation of missing data\n",
    "2. Dealing with missing values\n",
    "3. Correct data format\n",
    "4. Data Normalization (centering / scaling)\n",
    "5. Binning\n",
    "\n",
    "scaling, normalization and log transformation * https://towardsdatascience.com/how-to-differentiate-between-scaling-normalization-and-log-transformations-69873d365a94"
   ]
  },
  {
   "cell_type": "markdown",
   "metadata": {},
   "source": [
    "see https://towardsdatascience.com/feature-engineering-for-machine-learning-3a5e293a5114\n",
    "* imputation\n",
    "* handling outliers\n",
    "* binning\n",
    "* Log transform\n",
    "* one-hot encoding\n",
    "* Grouping \n",
    "* feature split\n",
    "* Scaling\n",
    "* Extracting Date"
   ]
  },
  {
   "cell_type": "code",
   "execution_count": null,
   "metadata": {},
   "outputs": [],
   "source": []
  }
 ],
 "metadata": {
  "kernelspec": {
   "display_name": "tf-tutorial",
   "language": "python",
   "name": "tf-tutorial"
  },
  "language_info": {
   "codemirror_mode": {
    "name": "ipython",
    "version": 3
   },
   "file_extension": ".py",
   "mimetype": "text/x-python",
   "name": "python",
   "nbconvert_exporter": "python",
   "pygments_lexer": "ipython3",
   "version": "3.7.6"
  }
 },
 "nbformat": 4,
 "nbformat_minor": 4
}
