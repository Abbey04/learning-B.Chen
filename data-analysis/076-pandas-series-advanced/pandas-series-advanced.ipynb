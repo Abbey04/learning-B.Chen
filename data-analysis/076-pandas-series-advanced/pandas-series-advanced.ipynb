{
 "cells": [
  {
   "cell_type": "markdown",
   "id": "d88811ca",
   "metadata": {},
   "source": [
    "https://towardsdatascience.com/6-fundamental-questions-when-working-with-a-pandas-series-1d142b5fba4e"
   ]
  },
  {
   "cell_type": "code",
   "execution_count": null,
   "id": "d374c1dc",
   "metadata": {},
   "outputs": [],
   "source": []
  }
 ],
 "metadata": {
  "kernelspec": {
   "display_name": "Python 3 (ipykernel)",
   "language": "python",
   "name": "python3"
  },
  "language_info": {
   "codemirror_mode": {
    "name": "ipython",
    "version": 3
   },
   "file_extension": ".py",
   "mimetype": "text/x-python",
   "name": "python",
   "nbconvert_exporter": "python",
   "pygments_lexer": "ipython3",
   "version": "3.9.12"
  }
 },
 "nbformat": 4,
 "nbformat_minor": 5
}
