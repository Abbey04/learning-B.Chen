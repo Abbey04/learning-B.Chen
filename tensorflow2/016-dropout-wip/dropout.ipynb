{
 "cells": [
  {
   "cell_type": "markdown",
   "metadata": {},
   "source": [
    "### Dropout in TF 2\n",
    "\n",
    "hands-on page383"
   ]
  }
 ],
 "metadata": {
  "language_info": {
   "name": "python"
  },
  "orig_nbformat": 4
 },
 "nbformat": 4,
 "nbformat_minor": 2
}
