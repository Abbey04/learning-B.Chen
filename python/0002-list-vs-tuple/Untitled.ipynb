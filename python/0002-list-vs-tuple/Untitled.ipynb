{
 "cells": [
  {
   "cell_type": "markdown",
   "metadata": {},
   "source": [
    "https://betterprogramming.pub/6-essential-python-tuple-unpacking-techniques-you-can-use-fc5d56a2c5f4\n",
    "\n",
    "In Python, tuples are used to store various amounts of elements. Unlike lists, which are mutable, tuples are immutable data containers in Python. This means that once they’re created, you can’t change their values. Thus, Python developers often use them to indicate that they’re not intended to be changed. Also, their immutability prevents accidental changes. In addition, compared to lists, tuples are usually smaller in size and thus more memory-friendly because the mutability of lists requires extra overhead."
   ]
  },
  {
   "cell_type": "code",
   "execution_count": null,
   "metadata": {},
   "outputs": [],
   "source": []
  }
 ],
 "metadata": {
  "kernelspec": {
   "display_name": "tf-tutorial",
   "language": "python",
   "name": "tf-tutorial"
  },
  "language_info": {
   "codemirror_mode": {
    "name": "ipython",
    "version": 3
   },
   "file_extension": ".py",
   "mimetype": "text/x-python",
   "name": "python",
   "nbconvert_exporter": "python",
   "pygments_lexer": "ipython3",
   "version": "3.7.6"
  }
 },
 "nbformat": 4,
 "nbformat_minor": 4
}
