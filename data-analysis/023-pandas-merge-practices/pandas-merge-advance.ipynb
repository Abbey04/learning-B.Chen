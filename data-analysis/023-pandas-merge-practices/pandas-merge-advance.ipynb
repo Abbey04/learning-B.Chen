{
 "cells": [
  {
   "cell_type": "markdown",
   "metadata": {},
   "source": [
    "# Pandas merge\n",
    "\n",
    "This is a notebook for the medium article [Pandas Merge() advanced](https://bindichen.medium.com/)\n",
    "\n",
    "Please check out article for instructions\n",
    "\n",
    "**License**: [BSD 2-Clause](https://opensource.org/licenses/BSD-2-Clause)"
   ]
  },
  {
   "cell_type": "code",
   "execution_count": 1,
   "metadata": {},
   "outputs": [],
   "source": [
    "import pandas as pd"
   ]
  },
  {
   "cell_type": "markdown",
   "metadata": {},
   "source": [
    "## 1. Cartesian product "
   ]
  },
  {
   "cell_type": "markdown",
   "metadata": {},
   "source": [
    "reference\n",
    "* https://realpython.com/pandas-merge-join-and-concat/#pandas-merge-combining-data-on-common-columns-or-indices\n",
    "* 43"
   ]
  },
  {
   "cell_type": "code",
   "execution_count": 3,
   "metadata": {},
   "outputs": [
    {
     "data": {
      "text/html": [
       "<div>\n",
       "<style scoped>\n",
       "    .dataframe tbody tr th:only-of-type {\n",
       "        vertical-align: middle;\n",
       "    }\n",
       "\n",
       "    .dataframe tbody tr th {\n",
       "        vertical-align: top;\n",
       "    }\n",
       "\n",
       "    .dataframe thead th {\n",
       "        text-align: right;\n",
       "    }\n",
       "</style>\n",
       "<table border=\"1\" class=\"dataframe\">\n",
       "  <thead>\n",
       "    <tr style=\"text-align: right;\">\n",
       "      <th></th>\n",
       "      <th>上架前平均店流量</th>\n",
       "      <th>上架后平均店流量</th>\n",
       "    </tr>\n",
       "    <tr>\n",
       "      <th>商品</th>\n",
       "      <th></th>\n",
       "      <th></th>\n",
       "    </tr>\n",
       "  </thead>\n",
       "  <tbody>\n",
       "    <tr>\n",
       "      <th>A</th>\n",
       "      <td>35.666667</td>\n",
       "      <td>86.000000</td>\n",
       "    </tr>\n",
       "    <tr>\n",
       "      <th>B</th>\n",
       "      <td>68.142857</td>\n",
       "      <td>82.285714</td>\n",
       "    </tr>\n",
       "    <tr>\n",
       "      <th>C</th>\n",
       "      <td>78.454545</td>\n",
       "      <td>63.333333</td>\n",
       "    </tr>\n",
       "  </tbody>\n",
       "</table>\n",
       "</div>"
      ],
      "text/plain": [
       "     上架前平均店流量   上架后平均店流量\n",
       "商品                      \n",
       "A   35.666667  86.000000\n",
       "B   68.142857  82.285714\n",
       "C   78.454545  63.333333"
      ]
     },
     "execution_count": 3,
     "metadata": {},
     "output_type": "execute_result"
    }
   ],
   "source": [
    "df_base = pd.read_excel('data/sp_data2.xlsx', '商品上架表')\n",
    "df_detail = pd.read_excel('data/sp_data2.xlsx', '店流量表')\n",
    "\n",
    "df_base['keys'] = 1\n",
    "df_detail['keys'] = 1\n",
    "\n",
    "def merge_groupby(left,right,condition,keys='keys'):\n",
    "    return (\n",
    "        pd.merge(left, right, how='left',on=keys)\n",
    "            .query(condition)\n",
    "            .groupby('商品').agg({'人数': 'mean'})\n",
    "    )\n",
    "\n",
    "res_before=merge_groupby(df_base, df_detail,'上架日期>日期')\n",
    "res_after=merge_groupby(df_base, df_detail,'上架日期<=日期')\n",
    "\n",
    "res_before.columns=['上架前平均店流量']\n",
    "res_after.columns=['上架后平均店流量']\n",
    "\n",
    "pd.concat([res_before,res_after],axis=1)"
   ]
  },
  {
   "cell_type": "code",
   "execution_count": null,
   "metadata": {},
   "outputs": [],
   "source": []
  }
 ],
 "metadata": {
  "kernelspec": {
   "display_name": "tf-tutorial",
   "language": "python",
   "name": "tf-tutorial"
  },
  "language_info": {
   "codemirror_mode": {
    "name": "ipython",
    "version": 3
   },
   "file_extension": ".py",
   "mimetype": "text/x-python",
   "name": "python",
   "nbconvert_exporter": "python",
   "pygments_lexer": "ipython3",
   "version": "3.7.6"
  }
 },
 "nbformat": 4,
 "nbformat_minor": 4
}
