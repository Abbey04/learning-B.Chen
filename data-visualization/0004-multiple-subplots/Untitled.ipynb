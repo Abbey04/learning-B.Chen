{
 "cells": [
  {
   "cell_type": "markdown",
   "metadata": {},
   "source": [
    "* https://matplotlib.org/devdocs/gallery/subplots_axes_and_figures/subplots_demo.html\n",
    "* https://matplotlib.org/devdocs/api/figure_api.html#matplotlib.figure.Figure.add_subplot"
   ]
  },
  {
   "cell_type": "code",
   "execution_count": 3,
   "metadata": {},
   "outputs": [],
   "source": [
    "import pandas as pd\n",
    "import numpy as np\n",
    "import matplotlib.pyplot as plt"
   ]
  },
  {
   "cell_type": "markdown",
   "metadata": {},
   "source": [
    "## add_subplot"
   ]
  },
  {
   "cell_type": "code",
   "execution_count": 8,
   "metadata": {},
   "outputs": [
    {
     "data": {
      "image/png": "[encoded data removed]",
      "text/plain": [
       "<Figure size 432x288 with 2 Axes>"
      ]
     },
     "metadata": {
      "needs_background": "light"
     },
     "output_type": "display_data"
    }
   ],
   "source": [
    "fig = plt.figure()\n",
    "fig.suptitle('My SubPlots')\n",
    "fig.add_subplot(221)\n",
    "plt.plot([np.log(n) for n in range(1, 10)])\n",
    "fig.add_subplot(224, facecolor='y')\n",
    "# fig.add_subplot(223)\n",
    "# fig.add_subplot(224)\n",
    "plt.show()"
   ]
  },
  {
   "cell_type": "markdown",
   "metadata": {},
   "source": [
    "## subplots"
   ]
  },
  {
   "cell_type": "code",
   "execution_count": null,
   "metadata": {},
   "outputs": [],
   "source": [
    "fig, plots = plt.subplots(2, sharex=True)\n",
    "fig.suptitle('Sharing X axis')\n",
    "x = range(0,200, 5)\n",
    "y = [n**0.8 for n in x]\n",
    "plots[0].plot(x, y, color='r')\n",
    "plots[1].scatter(x, y)\n",
    "plt.show()"
   ]
  }
 ],
 "metadata": {
  "kernelspec": {
   "display_name": "data-visualization",
   "language": "python",
   "name": "data-visualization"
  },
  "language_info": {
   "codemirror_mode": {
    "name": "ipython",
    "version": 3
   },
   "file_extension": ".py",
   "mimetype": "text/x-python",
   "name": "python",
   "nbconvert_exporter": "python",
   "pygments_lexer": "ipython3",
   "version": "3.7.6"
  }
 },
 "nbformat": 4,
 "nbformat_minor": 4
}
