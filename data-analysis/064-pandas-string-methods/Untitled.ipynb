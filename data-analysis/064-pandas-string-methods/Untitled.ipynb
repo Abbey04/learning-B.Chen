{
 "cells": [
  {
   "cell_type": "markdown",
   "metadata": {},
   "source": [
    "Pandas string method\n",
    "\n",
    "* https://sayahfares.medium.com/pandas-cookbook-all-that-you-need-to-start-working-with-pandas-1c9c2535a103\n",
    "* https://sayahfares.medium.com/pandas-functions-to-manipulate-textual-data-c72bc4bbf82f"
   ]
  }
 ],
 "metadata": {
  "kernelspec": {
   "display_name": "tf-tutorial",
   "language": "python",
   "name": "tf-tutorial"
  },
  "language_info": {
   "codemirror_mode": {
    "name": "ipython",
    "version": 3
   },
   "file_extension": ".py",
   "mimetype": "text/x-python",
   "name": "python",
   "nbconvert_exporter": "python",
   "pygments_lexer": "ipython3",
   "version": "3.7.6"
  }
 },
 "nbformat": 4,
 "nbformat_minor": 4
}
