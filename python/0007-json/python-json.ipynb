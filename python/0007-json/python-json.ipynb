{
 "cells": [
  {
   "cell_type": "markdown",
   "metadata": {},
   "source": [
    "## Python JSON\n",
    "\n",
    "* https://www.programiz.com/python-programming/json\n",
    "* https://docs.python.org/3/library/json.html#encoders-and-decoders\n",
    "* https://docs.python.org/3/library/json.html#module-json.tool\n",
    "* https://www.w3schools.com/python/python_json.asp"
   ]
  },
  {
   "cell_type": "markdown",
   "metadata": {},
   "source": [
    "* json.dump()\n",
    "* json.dumps()\n",
    "* json.load()\n",
    "* json.loads()\n",
    "* json.tool"
   ]
  },
  {
   "cell_type": "markdown",
   "metadata": {},
   "source": [
    "#### Version of packages used in this Notebook"
   ]
  },
  {
   "cell_type": "code",
   "execution_count": 2,
   "metadata": {},
   "outputs": [
    {
     "name": "stdout",
     "output_type": "stream",
     "text": [
      "python:  3.7.6 (default, Jan  8 2020, 13:42:34) \n",
      "[Clang 4.0.1 (tags/RELEASE_401/final)]\n",
      "json:  2.0.9\n"
     ]
    }
   ],
   "source": [
    "import sys\n",
    "import json # Python's built-in json module\n",
    "\n",
    "# Make sure your package version >= them\n",
    "print('python: ', sys.version)\n",
    "print('json: ', json.__version__)"
   ]
  },
  {
   "cell_type": "markdown",
   "metadata": {},
   "source": [
    "# Tutorial"
   ]
  },
  {
   "cell_type": "code",
   "execution_count": 3,
   "metadata": {},
   "outputs": [],
   "source": [
    "import json"
   ]
  },
  {
   "cell_type": "markdown",
   "metadata": {},
   "source": [
    "## 1. JSON string to dict"
   ]
  },
  {
   "cell_type": "code",
   "execution_count": 3,
   "metadata": {},
   "outputs": [
    {
     "name": "stdout",
     "output_type": "stream",
     "text": [
      "{'name': 'Bob', 'language': ['English', 'French']}\n"
     ]
    }
   ],
   "source": [
    "import json\n",
    "\n",
    "person = '{ \"name\": \"Bob\", \"language\": [\"English\", \"French\"] }'\n",
    "person_dict = json.loads(person)\n",
    "\n",
    "print(person_dict)\n",
    "\n",
    "# + table to show JSON -> Python"
   ]
  },
  {
   "cell_type": "code",
   "execution_count": 4,
   "metadata": {},
   "outputs": [
    {
     "name": "stdout",
     "output_type": "stream",
     "text": [
      "{'name': 'Bob', 'language': ['English', 'French']}\n"
     ]
    }
   ],
   "source": [
    "print(person_dict)"
   ]
  },
  {
   "cell_type": "code",
   "execution_count": 5,
   "metadata": {},
   "outputs": [
    {
     "name": "stdout",
     "output_type": "stream",
     "text": [
      "['English', 'French']\n"
     ]
    }
   ],
   "source": [
    "print(person_dict['language'])"
   ]
  },
  {
   "cell_type": "markdown",
   "metadata": {},
   "source": [
    "## 2. Read a JSON file"
   ]
  },
  {
   "cell_type": "code",
   "execution_count": 10,
   "metadata": {},
   "outputs": [],
   "source": [
    "import json\n",
    "\n",
    "with open('person.json') as f:\n",
    "    data_dict = json.load(f)"
   ]
  },
  {
   "cell_type": "code",
   "execution_count": 11,
   "metadata": {},
   "outputs": [
    {
     "name": "stdout",
     "output_type": "stream",
     "text": [
      "{'name': 'Bob', 'languages': ['English', 'Fench']}\n"
     ]
    }
   ],
   "source": [
    "print(data_dict)"
   ]
  },
  {
   "cell_type": "code",
   "execution_count": 12,
   "metadata": {},
   "outputs": [
    {
     "name": "stdout",
     "output_type": "stream",
     "text": [
      "['English', 'Fench']\n"
     ]
    }
   ],
   "source": [
    "print(data_dict['languages'])"
   ]
  },
  {
   "cell_type": "markdown",
   "metadata": {},
   "source": [
    "## 3. Python Data to JSON string"
   ]
  },
  {
   "cell_type": "code",
   "execution_count": 16,
   "metadata": {},
   "outputs": [
    {
     "name": "stdout",
     "output_type": "stream",
     "text": [
      "{\"name\": \"Bob\", \"age\": 12, \"children\": null, \"number\": [1, 2]}\n"
     ]
    }
   ],
   "source": [
    "import json\n",
    "\n",
    "person_dict = {\n",
    "    'name': 'Bob',\n",
    "    'age': 12,\n",
    "    'children': None,\n",
    "    'number': [1, 2]\n",
    "}\n",
    "\n",
    "person_json = json.dumps(person_dict)\n",
    "\n",
    "print(person_json)"
   ]
  },
  {
   "cell_type": "markdown",
   "metadata": {},
   "source": [
    "## 4. Python Data to JSON string with pretty-print"
   ]
  },
  {
   "cell_type": "code",
   "execution_count": 17,
   "metadata": {},
   "outputs": [
    {
     "name": "stdout",
     "output_type": "stream",
     "text": [
      "{\n",
      "    \"name\": \"Bob\",\n",
      "    \"age\": 12,\n",
      "    \"children\": null,\n",
      "    \"number\": [\n",
      "        1,\n",
      "        2\n",
      "    ]\n",
      "}\n"
     ]
    }
   ],
   "source": [
    "# If you have a dictionary with more than a few items you need to be able to read, \n",
    "# the json.dumps() function takes an indent argument that automatically formats things legibly for you:\n",
    "person_json = json.dumps(person_dict, indent=4)\n",
    "\n",
    "print(person_json)"
   ]
  },
  {
   "cell_type": "code",
   "execution_count": 18,
   "metadata": {},
   "outputs": [
    {
     "name": "stdout",
     "output_type": "stream",
     "text": [
      "{\n",
      "    \"age\": 12,\n",
      "    \"children\": null,\n",
      "    \"name\": \"Bob\",\n",
      "    \"number\": [\n",
      "        1,\n",
      "        2\n",
      "    ]\n",
      "}\n"
     ]
    }
   ],
   "source": [
    "# You can even add sort_keys=True to sort the output alphabetically by keys\n",
    "person_json = json.dumps(person_dict, indent=4, sort_keys=True)\n",
    "\n",
    "print(person_json)"
   ]
  },
  {
   "cell_type": "markdown",
   "metadata": {},
   "source": [
    "## 5. Writing JSON to a file"
   ]
  },
  {
   "cell_type": "code",
   "execution_count": 13,
   "metadata": {},
   "outputs": [],
   "source": [
    "import json\n",
    "\n",
    "person_dict = {\n",
    "    'name': 'Bob',\n",
    "    'age': 12,\n",
    "    'children': None\n",
    "}\n",
    "\n",
    "with open('person_new.json', 'w') as json_file:\n",
    "    json.dump(person_dict, json_file)"
   ]
  },
  {
   "cell_type": "markdown",
   "metadata": {},
   "source": [
    "## 6. Write JSON to a file with pretty-print"
   ]
  },
  {
   "cell_type": "code",
   "execution_count": 19,
   "metadata": {},
   "outputs": [],
   "source": [
    "import json\n",
    "\n",
    "person_dict = {\n",
    "    'name': 'Bob',\n",
    "    'age': 12,\n",
    "    'children': None\n",
    "}\n",
    "\n",
    "with open('person_pretty.json', 'w') as json_file:\n",
    "    json.dump(person_dict, json_file, indent=4, sort_keys=True)"
   ]
  },
  {
   "cell_type": "markdown",
   "metadata": {},
   "source": [
    "## 7. Pretty print JSON string"
   ]
  },
  {
   "cell_type": "code",
   "execution_count": 21,
   "metadata": {},
   "outputs": [
    {
     "name": "stdout",
     "output_type": "stream",
     "text": [
      "{\n",
      "    \"languages\": \"English\",\n",
      "    \"name\": \"Bob\",\n",
      "    \"numbers\": [\n",
      "        2,\n",
      "        1.6,\n",
      "        null\n",
      "    ]\n",
      "}\n"
     ]
    }
   ],
   "source": [
    "import json\n",
    "\n",
    "person_string = '{\"name\": \"Bob\", \"languages\": \"English\", \"numbers\": [2, 1.6, null]}'\n",
    "\n",
    "# Step 1: Getting dictionary\n",
    "person_dict = json.loads(person_string)\n",
    "\n",
    "# Step 2: Pretty Printing JSON string back\n",
    "print(json.dumps(person_dict, indent=4, sort_keys=True))"
   ]
  },
  {
   "cell_type": "markdown",
   "metadata": {},
   "source": [
    "## 8. Command line \n",
    "\n",
    "The `json.tool` module provides a simple command line interface to validate and pretty-print JSON objects.\n",
    "\n",
    "\n",
    "```\n",
    "⇒  echo '{\"name\": \"Bob\"}' | python -m json.tool\n",
    "\n",
    "{\n",
    "    \"name\": \"Bob\"\n",
    "}\n",
    "```"
   ]
  },
  {
   "cell_type": "markdown",
   "metadata": {},
   "source": [
    "```\n",
    "⇒  python -m json.tool person.json \n",
    "{\n",
    "    \"name\": \"Bob\",\n",
    "    \"languages\": [\n",
    "        \"English\",\n",
    "        \"Fench\"\n",
    "    ]\n",
    "}\n",
    "```"
   ]
  },
  {
   "cell_type": "code",
   "execution_count": null,
   "metadata": {},
   "outputs": [],
   "source": []
  }
 ],
 "metadata": {
  "kernelspec": {
   "display_name": "tf-tutorial",
   "language": "python",
   "name": "tf-tutorial"
  },
  "language_info": {
   "codemirror_mode": {
    "name": "ipython",
    "version": 3
   },
   "file_extension": ".py",
   "mimetype": "text/x-python",
   "name": "python",
   "nbconvert_exporter": "python",
   "pygments_lexer": "ipython3",
   "version": "3.7.6"
  }
 },
 "nbformat": 4,
 "nbformat_minor": 4
}
