{
 "cells": [
  {
   "attachments": {
    "image.png": {
     "image/png": "[encoded data removed]"
    }
   },
   "cell_type": "markdown",
   "metadata": {},
   "source": [
    "# Python lambda functions\n",
    "* https://www.youtube.com/watch?v=25ovCm9jKfA \n",
    "* https://www.youtube.com/watch?v=Ob9rY6PQMfI\n",
    "* https://towardsdatascience.com/three-functions-to-know-in-python-4f2d27a4d05 \n",
    "* https://towardsdatascience.com/the-power-of-lambda-expressions-in-python-c5a1dcea9837![image.png](attachment:image.png)"
   ]
  },
  {
   "cell_type": "code",
   "execution_count": 31,
   "metadata": {},
   "outputs": [
    {
     "data": {
      "text/plain": [
       "7"
      ]
     },
     "execution_count": 31,
     "metadata": {},
     "output_type": "execute_result"
    }
   ],
   "source": [
    "# write a function to compute 3x + 1\n",
    "def func(x):\n",
    "    return 3*x + 1\n",
    "\n",
    "func(2)"
   ]
  },
  {
   "cell_type": "markdown",
   "metadata": {},
   "source": [
    "## What is Python lambda function"
   ]
  },
  {
   "cell_type": "markdown",
   "metadata": {},
   "source": [
    "Anonymous, single-use or throw-away functions\n",
    "\n",
    "**`lambda` arguments: expression**"
   ]
  },
  {
   "cell_type": "code",
   "execution_count": 2,
   "metadata": {},
   "outputs": [
    {
     "name": "stdout",
     "output_type": "stream",
     "text": [
      "11\n"
     ]
    }
   ],
   "source": [
    "add_five = lambda x: x + 5\n",
    "\n",
    "print(add_five(6))"
   ]
  },
  {
   "cell_type": "code",
   "execution_count": 3,
   "metadata": {},
   "outputs": [
    {
     "name": "stdout",
     "output_type": "stream",
     "text": [
      "6\n"
     ]
    }
   ],
   "source": [
    "multiply = lambda a, b: a * b\n",
    "\n",
    "print(multiply(2,3))"
   ]
  },
  {
   "cell_type": "markdown",
   "metadata": {},
   "source": [
    "## lambda as argument in other functions"
   ]
  },
  {
   "cell_type": "code",
   "execution_count": 8,
   "metadata": {},
   "outputs": [
    {
     "name": "stdout",
     "output_type": "stream",
     "text": [
      "[('carrots', 1.1), ('egg', 5.5), ('honey', 9.2), ('peaches', 2.3)]\n"
     ]
    }
   ],
   "source": [
    "### Sorting a list of tuples\n",
    "\n",
    "tuple_list = [('egg', 5.5), ('honey', 9.2), ('carrots', 1.1), ('peaches', 2.3)]\n",
    "tuple_list.sort(key = lambda x: x[0])\n",
    "\n",
    "print(tuple_list)"
   ]
  },
  {
   "cell_type": "code",
   "execution_count": 12,
   "metadata": {},
   "outputs": [
    {
     "name": "stdout",
     "output_type": "stream",
     "text": [
      "[{'make': 'Honda', 'year': 1995}, {'make': 'Ford', 'year': 1998}, {'make': 'Kia', 'year': 2010}]\n"
     ]
    }
   ],
   "source": [
    "### Sorting a list of dictionaries\n",
    "\n",
    "dict_list = [{'make': 'Ford', 'year': 1998 }, {'make': 'Kia', 'year': 2010 }, {'make': 'Honda', 'year': 1995 }]\n",
    "dict_list.sort(key = lambda x: x['year'])\n",
    "\n",
    "print(dict_list)"
   ]
  },
  {
   "cell_type": "code",
   "execution_count": 14,
   "metadata": {},
   "outputs": [
    {
     "name": "stdout",
     "output_type": "stream",
     "text": [
      "[2, 4, 6]\n"
     ]
    }
   ],
   "source": [
    "### Filtering a list\n",
    "\n",
    "num_list = [1, 2, 3, 4, 5, 6]\n",
    "new_list = list(filter(lambda x: x%2 == 0, num_list))\n",
    "\n",
    "print(new_list)"
   ]
  },
  {
   "cell_type": "code",
   "execution_count": 15,
   "metadata": {},
   "outputs": [
    {
     "name": "stdout",
     "output_type": "stream",
     "text": [
      "[1, 3, 5]\n"
     ]
    }
   ],
   "source": [
    "get_odds = lambda x: x%2 == 1\n",
    "new_list = list(filter(get_odds, num_list))\n",
    "\n",
    "print(new_list)"
   ]
  },
  {
   "cell_type": "code",
   "execution_count": 17,
   "metadata": {},
   "outputs": [
    {
     "name": "stdout",
     "output_type": "stream",
     "text": [
      "[1, 4, 9, 16, 25, 36]\n"
     ]
    }
   ],
   "source": [
    "### lambda function on a list using map\n",
    "# Python map function applies the lambda to every element in the list\n",
    "\n",
    "num_list = [1, 2, 3, 4, 5, 6]\n",
    "new_list = list(map(lambda x: x ** 2, num_list))\n",
    "print(new_list)"
   ]
  },
  {
   "cell_type": "markdown",
   "metadata": {},
   "source": [
    "### Lambda conditionals\n",
    "\n",
    "lambda args: a if boolean_expression else b"
   ]
  },
  {
   "cell_type": "code",
   "execution_count": 18,
   "metadata": {},
   "outputs": [
    {
     "name": "stdout",
     "output_type": "stream",
     "text": [
      "True\n"
     ]
    }
   ],
   "source": [
    "starts_with_J = lambda x: True if x.startswith('J') else False\n",
    "\n",
    "print(starts_with_J('Joey'))"
   ]
  },
  {
   "cell_type": "code",
   "execution_count": 19,
   "metadata": {},
   "outputs": [
    {
     "name": "stdout",
     "output_type": "stream",
     "text": [
      "and\n"
     ]
    }
   ],
   "source": [
    "word_before = lambda s, w: s.split()[s.split().index(w)-1]  if w in s else None\n",
    "\n",
    "sentence = 'Four score and seven years ago'\n",
    "\n",
    "print(word_before(sentence, 'seven'))"
   ]
  },
  {
   "cell_type": "markdown",
   "metadata": {},
   "source": [
    "### Lambda on DateTime objects\n",
    "\n",
    "You sometimes want to get just the year, month, date or time fro comparision. \n",
    "\n",
    "This would typically be most useful as a parameter in sort of filter functions"
   ]
  },
  {
   "cell_type": "code",
   "execution_count": 20,
   "metadata": {},
   "outputs": [
    {
     "name": "stdout",
     "output_type": "stream",
     "text": [
      "2021\n"
     ]
    }
   ],
   "source": [
    "import datetime\n",
    "\n",
    "now = datetime.datetime.now()\n",
    "\n",
    "get_year = lambda x: x.year\n",
    "\n",
    "print(get_year(now))"
   ]
  },
  {
   "cell_type": "code",
   "execution_count": 21,
   "metadata": {},
   "outputs": [
    {
     "name": "stdout",
     "output_type": "stream",
     "text": [
      "4096\n",
      "125\n"
     ]
    }
   ],
   "source": [
    "def do_something(f, val):\n",
    "    return f(val)\n",
    "\n",
    "func = lambda x: x**3\n",
    "print(func(16))\n",
    "print(do_something(func, 5))"
   ]
  },
  {
   "cell_type": "markdown",
   "metadata": {},
   "source": [
    "### Extreme Lambdas\n",
    "This is probably a stretch - you shouldn't be trying to do this much with lambda\n",
    "Some things are better done in a regular function. But this shows what's possible with lambda\n"
   ]
  },
  {
   "cell_type": "code",
   "execution_count": 24,
   "metadata": {},
   "outputs": [
    {
     "name": "stdout",
     "output_type": "stream",
     "text": [
      "True\n",
      "True\n",
      "False\n",
      "False\n"
     ]
    }
   ],
   "source": [
    "is_num = lambda q: q.replace('.', '', 1).isdigit()\n",
    "\n",
    "print(is_num('252'))\n",
    "print(is_num('25.2'))\n",
    "print(is_num('2.5.2'))\n",
    "print(is_num('-1.1'))   # need to handle -"
   ]
  },
  {
   "cell_type": "code",
   "execution_count": 26,
   "metadata": {},
   "outputs": [
    {
     "name": "stdout",
     "output_type": "stream",
     "text": [
      "True\n"
     ]
    }
   ],
   "source": [
    "is_num_2 = lambda r: is_num(r[1:]) if r[0] == '-' else is_num(r)\n",
    "print(is_num_2('-1.1'))"
   ]
  },
  {
   "cell_type": "code",
   "execution_count": 29,
   "metadata": {},
   "outputs": [
    {
     "name": "stdout",
     "output_type": "stream",
     "text": [
      "-1\n",
      "123.1 <class 'float'>\n"
     ]
    }
   ],
   "source": [
    "# Conver to num\n",
    "to_num = lambda s: float(s) if is_num_2(s) else -1\n",
    "print(to_num('30y'))\n",
    "print(to_num('123.1'), type(to_num('123.1')))"
   ]
  },
  {
   "cell_type": "code",
   "execution_count": null,
   "metadata": {},
   "outputs": [],
   "source": []
  }
 ],
 "metadata": {
  "kernelspec": {
   "display_name": "tf-tutorial",
   "language": "python",
   "name": "tf-tutorial"
  },
  "language_info": {
   "codemirror_mode": {
    "name": "ipython",
    "version": 3
   },
   "file_extension": ".py",
   "mimetype": "text/x-python",
   "name": "python",
   "nbconvert_exporter": "python",
   "pygments_lexer": "ipython3",
   "version": "3.7.6"
  }
 },
 "nbformat": 4,
 "nbformat_minor": 4
}
