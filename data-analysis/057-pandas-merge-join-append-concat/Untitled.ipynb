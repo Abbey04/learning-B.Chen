{
 "cells": [
  {
   "cell_type": "markdown",
   "metadata": {},
   "source": [
    "* https://www.dataschool.io/merging-pandas-dataframes/\n",
    "* https://stackoverflow.com/questions/15819050/pandas-dataframe-concat-vs-append\n",
    "\n",
    "\n",
    "* `Concat` gives the flexibility to join based on the axis( all rows or all columns)\n",
    "\n",
    "* `Append` is the specific case(axis=0, join='outer') of concat\n",
    "\n",
    "* `Join` is based on the indexes (set by set_index) on how variable =['left','right','inner','couter']\n",
    "\n",
    "* `Merge` is based on any particular column each of the two dataframes, this columns are variables on like 'left_on', 'right_on', 'on'"
   ]
  },
  {
   "cell_type": "code",
   "execution_count": null,
   "metadata": {},
   "outputs": [],
   "source": []
  }
 ],
 "metadata": {
  "kernelspec": {
   "display_name": "tf-tutorial",
   "language": "python",
   "name": "tf-tutorial"
  },
  "language_info": {
   "codemirror_mode": {
    "name": "ipython",
    "version": 3
   },
   "file_extension": ".py",
   "mimetype": "text/x-python",
   "name": "python",
   "nbconvert_exporter": "python",
   "pygments_lexer": "ipython3",
   "version": "3.7.6"
  }
 },
 "nbformat": 4,
 "nbformat_minor": 4
}
