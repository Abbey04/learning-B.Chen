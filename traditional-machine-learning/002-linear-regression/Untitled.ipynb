{
 "cells": [
  {
   "cell_type": "markdown",
   "metadata": {},
   "source": [
    "* https://www.youtube.com/watch?v=VmbA0pi2cRQ\n",
    "* https://hnslmp.medium.com/linear-regression-on-fish-market-dataset-using-python-eb2fc5f56aeb\n",
    "* https://towardsdatascience.com/5-types-of-regression-and-their-properties-c5e1fa12d55e\n",
    "* Udemy data Science Linear Regression Project\n",
    "* https://gitlab.com/Winston-90/supervised_algorithms/-/blob/main/Supervised%20Learning%20Algorithms.md"
   ]
  },
  {
   "cell_type": "code",
   "execution_count": null,
   "metadata": {},
   "outputs": [],
   "source": []
  }
 ],
 "metadata": {
  "kernelspec": {
   "display_name": "tf-tutorial",
   "language": "python",
   "name": "tf-tutorial"
  },
  "language_info": {
   "codemirror_mode": {
    "name": "ipython",
    "version": 3
   },
   "file_extension": ".py",
   "mimetype": "text/x-python",
   "name": "python",
   "nbconvert_exporter": "python",
   "pygments_lexer": "ipython3",
   "version": "3.7.6"
  }
 },
 "nbformat": 4,
 "nbformat_minor": 4
}
