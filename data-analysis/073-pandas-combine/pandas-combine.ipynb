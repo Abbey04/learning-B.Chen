{
 "cells": [
  {
   "cell_type": "markdown",
   "metadata": {},
   "source": [
    "# Combine a Dataframe conditionally with other using Pandas `combine()`\n",
    "\n",
    "This is a Notebook for the medium article [How to flatten MultiIndex Columns and Rows in Pandas](https://bindichen.medium.com/how-to-flatten-multiindex-columns-and-rows-in-pandas-f5406c50e569)\n",
    "\n",
    "Please read article for instructions. \n",
    "\n",
    "**License**: [BSD 2-Clause](https://opensource.org/licenses/BSD-2-Clause). Not for commercial use!!!\n",
    "\n",
    "\n",
    "* https://blog.devgenius.io/pandas-dataframe-combine-function-b0278f8f9d7"
   ]
  },
  {
   "cell_type": "code",
   "execution_count": null,
   "metadata": {},
   "outputs": [],
   "source": []
  }
 ],
 "metadata": {
  "kernelspec": {
   "display_name": "Python 3 (ipykernel)",
   "language": "python",
   "name": "python3"
  },
  "language_info": {
   "codemirror_mode": {
    "name": "ipython",
    "version": 3
   },
   "file_extension": ".py",
   "mimetype": "text/x-python",
   "name": "python",
   "nbconvert_exporter": "python",
   "pygments_lexer": "ipython3",
   "version": "3.9.12"
  }
 },
 "nbformat": 4,
 "nbformat_minor": 4
}
