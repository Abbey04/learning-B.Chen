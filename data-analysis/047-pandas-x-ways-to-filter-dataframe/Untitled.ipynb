{
 "cells": [
  {
   "cell_type": "code",
   "execution_count": null,
   "metadata": {},
   "outputs": [],
   "source": []
  },
  {
   "cell_type": "markdown",
   "metadata": {},
   "source": [
    "* https://www.youtube.com/watch?v=ni9ng4Jy3Z8\n",
    "* https://towardsdatascience.com/8-ways-to-filter-pandas-dataframes-d34ba585c1b8\n",
    "* https://www.youtube.com/watch?v=2AFGPdNn4FM\n",
    "* https://levelup.gitconnected.com/filtering-data-in-pandas-c7b60d1e1301\n",
    "* https://python.plainenglish.io/pandas-query-dynamic-data-filtering-14633caa8cab\n",
    "* https://sayahfares.medium.com/pandas-cookbook-all-that-you-need-to-start-working-with-pandas-1c9c2535a103"
   ]
  },
  {
   "cell_type": "markdown",
   "metadata": {},
   "source": [
    "1. Boolean Mask (Logical operators)\n",
    "\n",
    "df[df.val > 0.5]\n",
    "df[(df.val > 0.5) & (df.val2 == 1)]\n",
    "\n",
    "2. isin\n",
    "\n",
    "names = ['John','Catlin','Mike']\n",
    "df[df.name.isin(names)]\n",
    "\n",
    "3. str\n",
    "\n",
    "4. Tilde (~)\n",
    "\n",
    "5. Query\n",
    "\n",
    "6. Nlargest or nsmallest\n",
    "\n",
    "7. Loc and iloc\n",
    "\n",
    "8. notnull()"
   ]
  },
  {
   "cell_type": "code",
   "execution_count": null,
   "metadata": {},
   "outputs": [],
   "source": []
  }
 ],
 "metadata": {
  "kernelspec": {
   "display_name": "tf-tutorial",
   "language": "python",
   "name": "tf-tutorial"
  },
  "language_info": {
   "codemirror_mode": {
    "name": "ipython",
    "version": 3
   },
   "file_extension": ".py",
   "mimetype": "text/x-python",
   "name": "python",
   "nbconvert_exporter": "python",
   "pygments_lexer": "ipython3",
   "version": "3.7.6"
  }
 },
 "nbformat": 4,
 "nbformat_minor": 4
}
